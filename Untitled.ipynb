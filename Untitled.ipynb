{
 "cells": [
  {
   "cell_type": "markdown",
   "metadata": {},
   "source": [
    "#  Drive Safe :- Making an Android   Application for detecting driver drowsiness  Using  camera"
   ]
  },
  {
   "cell_type": "markdown",
   "metadata": {},
   "source": [
    " *  easy solution (Without using external hardware) to detect the eye movement , hand and face movements that will Cause driver distraction and he will be notified by using voice commands\n",
    " * we will detect two types of distraction :- one caused by exhaustion ( Yawning and feeling sleepy ) and other By engaging in other activities While driving like adjusting volume of  stereo , taking to passangers etc"
   ]
  },
  {
   "cell_type": "markdown",
   "metadata": {},
   "source": [
    "# References :- \n",
    "1. Android OpenCV Based Effective Driver Fatigue and Distraction Monitoring System :- R.Manoharan and S.chandrakala\n",
    "2. Estimating Gaze Direction of Vehicle Drivers using a Smartphone Camera:- Meng-Che Chuang,Raja Bala, Edgar A. Bernal, Peter Paul, Aaron Burry "
   ]
  },
  {
   "cell_type": "markdown",
   "metadata": {},
   "source": [
    "# Workflow (For exhaustion detection)"
   ]
  },
  {
   "cell_type": "markdown",
   "metadata": {},
   "source": [
    "![alt text](Workflow.png \"Title\")"
   ]
  },
  {
   "cell_type": "markdown",
   "metadata": {},
   "source": [
    "# Steps:- \n",
    "## 1. Input Video:-\n",
    "    * Image Processing via OpenCV\n",
    "    * video converted to BAtch of Frames Which are down Sampled to 320x180\n",
    "    * the color images are converted in to grey scale images to reduce the processing power, for high speed processing.\n",
    "## 2. Feature Detection (face mouth and eye blink):- \n",
    "    *The driver fatigue and eye rub detection is carried out in several stages, \n",
    "        * first we find out the Haar like features (are digital image features used in object recognition  using  similar       techniques Like  Haar wavelets and were used in the first real-time face detector. Adaboost  algorithm is used  along with haar like features to get real time face detection.\n",
    "        * ADAPTIVE TEMPLATE MATCHING  is used for detecting close eyes even when face is tilted.\n",
    "        * we will use to detect percentage change  of black pixels  in eyes to detect the eye closing . also we will check out Percentage of Eye Closure (PERCLOS=Number of times eye blinked / (30 * sampling rate) ) and will alert user when it remains more than 30% of time during 30 second time frame.\n",
    "        * similarly We can find eye rub detection By finding wether the  sum of the black pixels in the left eye is lesser than the sum of the black pixels in the right eye or vice versa.\n",
    "## 3. Driver Alert\n",
    "    * using  text to speech libraries  to alert the person."
   ]
  },
  {
   "cell_type": "markdown",
   "metadata": {},
   "source": [
    "# For Other Distraction detection:-\n",
    "## Workflow:-\n",
    "    "
   ]
  },
  {
   "cell_type": "markdown",
   "metadata": {},
   "source": [
    " <img src = \"Workflow2.png\"></img>"
   ]
  },
  {
   "cell_type": "markdown",
   "metadata": {},
   "source": [
    "# Steps:- \n",
    "##  1. Coarse head pose detection. \n",
    "Input video frames are first processed through frontal, left- and right-profile face detectors to determine coarse head pose direction. These face detectors comprise fast Adaboost cascade classifiers operating on Haar feature descriptors.\n",
    "## 2.  Gaze feature descriptors.\n",
    "Next we process only those\n",
    "frames classified as containing frontal poses from the\n",
    "previous step. Facial regions are sent to modules that detect\n",
    "the location of left iris, right iris, mouth and nose (see Fig. 4).\n",
    "These are again Adaboost cascade classifiers trained\n",
    "specifically to detect the respective facial regions.\n",
    "## 3. Gaze classifier. \n",
    "The extracted feature vector is input to a classifier that outputs an estimated gaze direction out of 8 possible directions. In the proposed system, a multi-class linear support vector machine (SVM) classifier is employed with a one-versus-one scheme, wherein a binary decision function is learned between every pair of classes.\n",
    "\n",
    "## 4. Temporal post-filtering.\n",
    "The extracted feature vector is input to a classifier that outputs an estimated gaze direction out of\n",
    "8 possible directions. In the proposed system, a multi-class linear support vector machine (SVM) classifier is employed with a one-versus-one scheme, wherein a binary decision function is learned between every pair of classes."
   ]
  },
  {
   "cell_type": "markdown",
   "metadata": {},
   "source": [
    "## Also for handling real time challanges  like \n",
    "\n",
    "    ### diffrent poses of driver face according to placement of phone\n",
    "    ###  Also The classifier doesnot generalize for other  drivers not taken into consideration during tranning phase"
   ]
  }
 ],
 "metadata": {
  "kernelspec": {
   "display_name": "Python 3",
   "language": "python",
   "name": "python3"
  },
  "language_info": {
   "codemirror_mode": {
    "name": "ipython",
    "version": 3
   },
   "file_extension": ".py",
   "mimetype": "text/x-python",
   "name": "python",
   "nbconvert_exporter": "python",
   "pygments_lexer": "ipython3",
   "version": "3.6.2"
  }
 },
 "nbformat": 4,
 "nbformat_minor": 2
}
